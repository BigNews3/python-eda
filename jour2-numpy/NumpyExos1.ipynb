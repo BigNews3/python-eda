{
 "cells": [
  {
   "cell_type": "code",
   "execution_count": 1,
   "metadata": {},
   "outputs": [],
   "source": [
    "import numpy as np\n",
    "rd = np.random\n"
   ]
  },
  {
   "cell_type": "markdown",
   "metadata": {},
   "source": [
    "# Quelques fonctions utiles"
   ]
  },
  {
   "cell_type": "markdown",
   "metadata": {},
   "source": [
    "On a créé un tableau 2D `rdm_mat` contenant des valeurs aléatoires. "
   ]
  },
  {
   "cell_type": "code",
   "execution_count": 4,
   "metadata": {},
   "outputs": [
    {
     "name": "stdout",
     "output_type": "stream",
     "text": [
      "[[ 0.64048218  1.06610988]\n",
      " [-0.58806208  0.96197009]\n",
      " [-1.48361321  0.37949168]\n",
      " [-0.69447119  0.42745743]]\n"
     ]
    }
   ],
   "source": [
    "import numpy as np\n",
    "rd = np.random\n",
    "rdm_mat = rd.randn(4,2)\n",
    "print(rdm_mat)"
   ]
  },
  {
   "cell_type": "markdown",
   "metadata": {},
   "source": [
    "Donner le type de la variable rdm_mat"
   ]
  },
  {
   "cell_type": "code",
   "execution_count": 7,
   "metadata": {},
   "outputs": [
    {
     "data": {
      "text/plain": [
       "dtype('float64')"
      ]
     },
     "execution_count": 7,
     "metadata": {},
     "output_type": "execute_result"
    }
   ],
   "source": [
    "rdm_mat.dtype"
   ]
  },
  {
   "cell_type": "markdown",
   "metadata": {},
   "source": [
    "Donner la somme des éléments de ce tableau 2D"
   ]
  },
  {
   "cell_type": "code",
   "execution_count": 11,
   "metadata": {},
   "outputs": [
    {
     "data": {
      "text/plain": [
       "0.7093647899088208"
      ]
     },
     "execution_count": 11,
     "metadata": {},
     "output_type": "execute_result"
    }
   ],
   "source": [
    "rdm_mat.cumsum()[-1]"
   ]
  },
  {
   "cell_type": "markdown",
   "metadata": {},
   "source": [
    "Faire en sorte de récupérer la valeur maximale sur chaque ligne (sans boucles) avec la fonction np.max"
   ]
  },
  {
   "cell_type": "code",
   "execution_count": 14,
   "metadata": {},
   "outputs": [
    {
     "data": {
      "text/plain": [
       "array([1.06610988, 0.96197009, 0.37949168, 0.42745743])"
      ]
     },
     "execution_count": 14,
     "metadata": {},
     "output_type": "execute_result"
    }
   ],
   "source": [
    "np.amax(rdm_mat, axis=1)"
   ]
  },
  {
   "cell_type": "markdown",
   "metadata": {},
   "source": [
    "Faire de même pour récupérer la valeur maximum pour chaque colonne (sans boucles)"
   ]
  },
  {
   "cell_type": "code",
   "execution_count": 15,
   "metadata": {},
   "outputs": [
    {
     "data": {
      "text/plain": [
       "array([0.64048218, 1.06610988])"
      ]
     },
     "execution_count": 15,
     "metadata": {},
     "output_type": "execute_result"
    }
   ],
   "source": [
    "np.amax(rdm_mat, axis=0)"
   ]
  },
  {
   "cell_type": "markdown",
   "metadata": {},
   "source": [
    "Faire la même chose (max des lignes) en définissant un tableau avec une boucle for et la fonction max de numpy"
   ]
  },
  {
   "cell_type": "code",
   "execution_count": null,
   "metadata": {},
   "outputs": [],
   "source": []
  },
  {
   "cell_type": "code",
   "execution_count": null,
   "metadata": {},
   "outputs": [],
   "source": []
  },
  {
   "cell_type": "code",
   "execution_count": null,
   "metadata": {},
   "outputs": [],
   "source": []
  },
  {
   "cell_type": "markdown",
   "metadata": {},
   "source": [
    "On crée un vecteur aléatoire de taille 100 `rdm_vect`"
   ]
  },
  {
   "cell_type": "code",
   "execution_count": 17,
   "metadata": {},
   "outputs": [
    {
     "data": {
      "text/plain": [
       "array([-0.86509732, -0.40815062,  1.37091106,  1.32288762,  1.28577998,\n",
       "       -0.48953307, -0.01631169,  0.69674547, -1.471156  ,  1.4756177 ,\n",
       "        1.13845355, -2.38837082,  1.25333125, -0.4142232 ,  1.43141541,\n",
       "        0.720728  ,  0.31207102,  1.41803295, -1.46213663, -1.34744451,\n",
       "        1.388437  , -0.43240803,  0.0576342 , -0.08743391, -1.53631832,\n",
       "       -0.91800957,  0.00468984,  1.31593406,  1.15744456, -0.4862837 ,\n",
       "        1.07372012,  0.29538641,  0.09936326, -0.90108841, -0.72745098,\n",
       "        0.03004055, -0.8009635 ,  1.75701218,  0.30757734,  1.79404605,\n",
       "       -0.04952201,  1.03701496,  0.91232938,  0.25666107,  1.43302125,\n",
       "       -1.74329652,  0.83019289, -0.04321409,  1.33682906,  1.09481752,\n",
       "       -0.46590208,  2.21247883,  1.68725646, -0.52376996,  0.78335708,\n",
       "        0.65966664, -0.77708486, -0.33537441, -1.64791121, -0.64838321,\n",
       "       -0.81682926,  0.86710728, -0.11723965, -0.35284887, -0.88182415,\n",
       "       -0.3839918 ,  0.92901623,  1.62842797,  0.78394344, -0.37770843,\n",
       "       -1.23619892, -1.04054866,  0.42948585,  0.22149031, -0.5632702 ,\n",
       "       -0.06336409,  1.60833628, -0.29941386, -0.07814305, -1.06646935,\n",
       "        0.51334854, -1.58909126,  0.54196598, -0.42711102,  1.23587383,\n",
       "        0.00594577, -1.59333164, -1.03461983,  0.16380296,  1.50361456,\n",
       "        0.13972808,  1.4541467 ,  2.4955525 ,  1.62292773,  0.00705389,\n",
       "        0.35901445, -0.63755903, -0.59718682, -0.96737424,  0.08259183])"
      ]
     },
     "execution_count": 17,
     "metadata": {},
     "output_type": "execute_result"
    }
   ],
   "source": [
    "rdm_vect = np.random.randn(100)\n",
    "rdm_vect.shape\n",
    "rdm_vect"
   ]
  },
  {
   "cell_type": "markdown",
   "metadata": {},
   "source": [
    "Récupérer la position de la valeur maximale du vecteur avec la méthode np.argmax"
   ]
  },
  {
   "cell_type": "code",
   "execution_count": 19,
   "metadata": {},
   "outputs": [
    {
     "data": {
      "text/plain": [
       "92"
      ]
     },
     "execution_count": 19,
     "metadata": {},
     "output_type": "execute_result"
    }
   ],
   "source": [
    "np.argmax(rdm_vect)"
   ]
  },
  {
   "cell_type": "markdown",
   "metadata": {},
   "source": [
    "Afficher cette valeur "
   ]
  },
  {
   "cell_type": "code",
   "execution_count": 20,
   "metadata": {},
   "outputs": [
    {
     "data": {
      "text/plain": [
       "2.495552503710119"
      ]
     },
     "execution_count": 20,
     "metadata": {},
     "output_type": "execute_result"
    }
   ],
   "source": [
    "rdm_vect[92]"
   ]
  },
  {
   "cell_type": "markdown",
   "metadata": {},
   "source": [
    "Convertir le vecteur en un tableau 10, 10"
   ]
  },
  {
   "cell_type": "code",
   "execution_count": 25,
   "metadata": {},
   "outputs": [
    {
     "data": {
      "text/plain": [
       "array([[-0.86509732, -0.40815062,  1.37091106,  1.32288762,  1.28577998,\n",
       "        -0.48953307, -0.01631169,  0.69674547, -1.471156  ,  1.4756177 ],\n",
       "       [ 1.13845355, -2.38837082,  1.25333125, -0.4142232 ,  1.43141541,\n",
       "         0.720728  ,  0.31207102,  1.41803295, -1.46213663, -1.34744451],\n",
       "       [ 1.388437  , -0.43240803,  0.0576342 , -0.08743391, -1.53631832,\n",
       "        -0.91800957,  0.00468984,  1.31593406,  1.15744456, -0.4862837 ],\n",
       "       [ 1.07372012,  0.29538641,  0.09936326, -0.90108841, -0.72745098,\n",
       "         0.03004055, -0.8009635 ,  1.75701218,  0.30757734,  1.79404605],\n",
       "       [-0.04952201,  1.03701496,  0.91232938,  0.25666107,  1.43302125,\n",
       "        -1.74329652,  0.83019289, -0.04321409,  1.33682906,  1.09481752],\n",
       "       [-0.46590208,  2.21247883,  1.68725646, -0.52376996,  0.78335708,\n",
       "         0.65966664, -0.77708486, -0.33537441, -1.64791121, -0.64838321],\n",
       "       [-0.81682926,  0.86710728, -0.11723965, -0.35284887, -0.88182415,\n",
       "        -0.3839918 ,  0.92901623,  1.62842797,  0.78394344, -0.37770843],\n",
       "       [-1.23619892, -1.04054866,  0.42948585,  0.22149031, -0.5632702 ,\n",
       "        -0.06336409,  1.60833628, -0.29941386, -0.07814305, -1.06646935],\n",
       "       [ 0.51334854, -1.58909126,  0.54196598, -0.42711102,  1.23587383,\n",
       "         0.00594577, -1.59333164, -1.03461983,  0.16380296,  1.50361456],\n",
       "       [ 0.13972808,  1.4541467 ,  2.4955525 ,  1.62292773,  0.00705389,\n",
       "         0.35901445, -0.63755903, -0.59718682, -0.96737424,  0.08259183]])"
      ]
     },
     "execution_count": 25,
     "metadata": {},
     "output_type": "execute_result"
    }
   ],
   "source": [
    "r = rdm_vect.reshape(10, 10); r"
   ]
  },
  {
   "cell_type": "markdown",
   "metadata": {},
   "source": [
    "Calculer la moyenne de chaque ligne de ce tableau (sans boucles)"
   ]
  },
  {
   "cell_type": "code",
   "execution_count": 27,
   "metadata": {},
   "outputs": [
    {
     "data": {
      "text/plain": [
       "array([ 8.20137714e-02,  7.56479409e-04,  8.73059030e-01,  7.17491379e-02,\n",
       "        2.46763779e-01, -1.82279965e-01, -1.40944458e-02,  4.50634362e-01,\n",
       "       -1.87712377e-01,  2.02439847e-01])"
      ]
     },
     "execution_count": 27,
     "metadata": {},
     "output_type": "execute_result"
    }
   ],
   "source": [
    "r.mean(axis=0)"
   ]
  },
  {
   "cell_type": "markdown",
   "metadata": {},
   "source": [
    "Faire un tableau qui contient la moyenne de chaque colonne du tableau "
   ]
  },
  {
   "cell_type": "markdown",
   "metadata": {},
   "source": [
    "Calculer la somme de chaque colonne (sans boucles)"
   ]
  },
  {
   "cell_type": "code",
   "execution_count": 28,
   "metadata": {},
   "outputs": [
    {
     "data": {
      "text/plain": [
       "array([ 0.29016932,  0.0661857 ,  0.04636861,  0.2927643 ,  0.50648335,\n",
       "        0.09443333,  0.12780528, -0.20880957, -0.06796021,  0.39588951])"
      ]
     },
     "execution_count": 28,
     "metadata": {},
     "output_type": "execute_result"
    }
   ],
   "source": [
    "r.mean(axis=1)"
   ]
  },
  {
   "cell_type": "markdown",
   "metadata": {},
   "source": [
    "Calculer la somme pour chaque ligne (sans boucles)"
   ]
  },
  {
   "cell_type": "code",
   "execution_count": 29,
   "metadata": {},
   "outputs": [
    {
     "data": {
      "text/plain": [
       "array([ 8.20137714e-01,  7.56479409e-03,  8.73059030e+00,  7.17491379e-01,\n",
       "        2.46763779e+00, -1.82279965e+00, -1.40944458e-01,  4.50634362e+00,\n",
       "       -1.87712377e+00,  2.02439847e+00])"
      ]
     },
     "execution_count": 29,
     "metadata": {},
     "output_type": "execute_result"
    }
   ],
   "source": [
    "r.sum(axis=0)"
   ]
  },
  {
   "cell_type": "code",
   "execution_count": null,
   "metadata": {},
   "outputs": [],
   "source": []
  }
 ],
 "metadata": {
  "kernelspec": {
   "display_name": "Python 3",
   "language": "python",
   "name": "python3"
  },
  "latex_envs": {
   "LaTeX_envs_menu_present": true,
   "autoclose": false,
   "autocomplete": true,
   "bibliofile": "biblio.bib",
   "cite_by": "apalike",
   "current_citInitial": 1,
   "eqLabelWithNumbers": true,
   "eqNumInitial": 1,
   "hotkeys": {
    "equation": "Ctrl-E",
    "itemize": "Ctrl-I"
   },
   "labels_anchors": false,
   "latex_user_defs": false,
   "report_style_numbering": false,
   "user_envs_cfg": false
  },
  "toc": {
   "base_numbering": 1,
   "nav_menu": {},
   "number_sections": true,
   "sideBar": true,
   "skip_h1_title": false,
   "title_cell": "Table of Contents",
   "title_sidebar": "Contents",
   "toc_cell": false,
   "toc_position": {},
   "toc_section_display": true,
   "toc_window_display": false
  },
  "varInspector": {
   "cols": {
    "lenName": 16,
    "lenType": 16,
    "lenVar": 40
   },
   "kernels_config": {
    "python": {
     "delete_cmd_postfix": "",
     "delete_cmd_prefix": "del ",
     "library": "var_list.py",
     "varRefreshCmd": "print(var_dic_list())"
    },
    "r": {
     "delete_cmd_postfix": ") ",
     "delete_cmd_prefix": "rm(",
     "library": "var_list.r",
     "varRefreshCmd": "cat(var_dic_list()) "
    }
   },
   "types_to_exclude": [
    "module",
    "function",
    "builtin_function_or_method",
    "instance",
    "_Feature"
   ],
   "window_display": false
  }
 },
 "nbformat": 4,
 "nbformat_minor": 2
}
